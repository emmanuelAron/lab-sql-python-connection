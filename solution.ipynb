{
 "cells": [
  {
   "cell_type": "code",
   "execution_count": 1,
   "id": "3edea35f-5085-45c0-b8ef-a57c2df694f7",
   "metadata": {},
   "outputs": [
    {
     "name": "stdout",
     "output_type": "stream",
     "text": [
      "Requirement already satisfied: mysql-connector-python in d:\\anaconda\\lib\\site-packages (9.0.0)\n",
      "Requirement already satisfied: SQLAlchemy in d:\\anaconda\\lib\\site-packages (1.4.39)\n",
      "Requirement already satisfied: greenlet!=0.4.17 in d:\\anaconda\\lib\\site-packages (from SQLAlchemy) (2.0.1)\n"
     ]
    }
   ],
   "source": [
    "# 1 Establish a connection between Python and the Sakila database.\n",
    "!pip install mysql-connector-python\n",
    "!pip install SQLAlchemy"
   ]
  },
  {
   "cell_type": "code",
   "execution_count": 2,
   "id": "b33d40f6-f798-491a-9709-d128b78b27bc",
   "metadata": {},
   "outputs": [],
   "source": [
    "import pandas as pd\n",
    "\n",
    "import mysql.connector\n",
    "from sqlalchemy import create_engine\n",
    "\n",
    "from getpass import getpass"
   ]
  },
  {
   "cell_type": "code",
   "execution_count": 10,
   "id": "d15a9a8b-d4c7-4a99-9052-05f674a9594f",
   "metadata": {},
   "outputs": [
    {
     "name": "stdin",
     "output_type": "stream",
     "text": [
      " ········\n"
     ]
    }
   ],
   "source": [
    "password = getpass.getpass()"
   ]
  },
  {
   "cell_type": "code",
   "execution_count": 12,
   "id": "6ad6013c-700f-4b36-b65a-da7faf72977f",
   "metadata": {},
   "outputs": [],
   "source": [
    "cnx = mysql.connector.connect(user = \"root\",\n",
    "                             password = password,\n",
    "                              host = \"localhost\",\n",
    "                              database = \"sakila\"\n",
    "                             )"
   ]
  },
  {
   "cell_type": "code",
   "execution_count": 14,
   "id": "2c802abb-29da-4dc0-8294-1e8ac7053a76",
   "metadata": {},
   "outputs": [
    {
     "data": {
      "text/plain": [
       "True"
      ]
     },
     "execution_count": 14,
     "metadata": {},
     "output_type": "execute_result"
    }
   ],
   "source": [
    "cnx.is_connected()"
   ]
  },
  {
   "cell_type": "code",
   "execution_count": 16,
   "id": "cd275eb1-ffcd-440d-9099-b6b8e6a9ff9d",
   "metadata": {},
   "outputs": [
    {
     "data": {
      "text/plain": [
       "<mysql.connector.cursor_cext.CMySQLCursor at 0x27dbfd4f190>"
      ]
     },
     "execution_count": 16,
     "metadata": {},
     "output_type": "execute_result"
    }
   ],
   "source": [
    "cursor = cnx.cursor()\n",
    "cursor"
   ]
  },
  {
   "cell_type": "code",
   "execution_count": 28,
   "id": "35309f18-258a-49b0-8c1d-1e139e50e5ae",
   "metadata": {},
   "outputs": [
    {
     "data": {
      "text/html": [
       "<div>\n",
       "<style scoped>\n",
       "    .dataframe tbody tr th:only-of-type {\n",
       "        vertical-align: middle;\n",
       "    }\n",
       "\n",
       "    .dataframe tbody tr th {\n",
       "        vertical-align: top;\n",
       "    }\n",
       "\n",
       "    .dataframe thead th {\n",
       "        text-align: right;\n",
       "    }\n",
       "</style>\n",
       "<table border=\"1\" class=\"dataframe\">\n",
       "  <thead>\n",
       "    <tr style=\"text-align: right;\">\n",
       "      <th></th>\n",
       "      <th>rental_id</th>\n",
       "      <th>rental_date</th>\n",
       "      <th>inventory_id</th>\n",
       "      <th>customer_id</th>\n",
       "      <th>return_date</th>\n",
       "      <th>staff_id</th>\n",
       "      <th>last_update</th>\n",
       "    </tr>\n",
       "  </thead>\n",
       "  <tbody>\n",
       "    <tr>\n",
       "      <th>0</th>\n",
       "      <td>3470</td>\n",
       "      <td>2005-07-05 22:49:24</td>\n",
       "      <td>883</td>\n",
       "      <td>565</td>\n",
       "      <td>2005-07-07 19:36:24</td>\n",
       "      <td>1</td>\n",
       "      <td>2006-02-15 21:30:53</td>\n",
       "    </tr>\n",
       "    <tr>\n",
       "      <th>1</th>\n",
       "      <td>3471</td>\n",
       "      <td>2005-07-05 22:51:44</td>\n",
       "      <td>1724</td>\n",
       "      <td>242</td>\n",
       "      <td>2005-07-13 01:38:44</td>\n",
       "      <td>2</td>\n",
       "      <td>2006-02-15 21:30:53</td>\n",
       "    </tr>\n",
       "    <tr>\n",
       "      <th>2</th>\n",
       "      <td>3472</td>\n",
       "      <td>2005-07-05 22:56:33</td>\n",
       "      <td>841</td>\n",
       "      <td>37</td>\n",
       "      <td>2005-07-13 17:18:33</td>\n",
       "      <td>2</td>\n",
       "      <td>2006-02-15 21:30:53</td>\n",
       "    </tr>\n",
       "    <tr>\n",
       "      <th>3</th>\n",
       "      <td>3473</td>\n",
       "      <td>2005-07-05 22:57:34</td>\n",
       "      <td>2735</td>\n",
       "      <td>60</td>\n",
       "      <td>2005-07-12 23:53:34</td>\n",
       "      <td>1</td>\n",
       "      <td>2006-02-15 21:30:53</td>\n",
       "    </tr>\n",
       "    <tr>\n",
       "      <th>4</th>\n",
       "      <td>3474</td>\n",
       "      <td>2005-07-05 22:59:53</td>\n",
       "      <td>97</td>\n",
       "      <td>594</td>\n",
       "      <td>2005-07-08 20:32:53</td>\n",
       "      <td>1</td>\n",
       "      <td>2006-02-15 21:30:53</td>\n",
       "    </tr>\n",
       "    <tr>\n",
       "      <th>...</th>\n",
       "      <td>...</td>\n",
       "      <td>...</td>\n",
       "      <td>...</td>\n",
       "      <td>...</td>\n",
       "      <td>...</td>\n",
       "      <td>...</td>\n",
       "      <td>...</td>\n",
       "    </tr>\n",
       "    <tr>\n",
       "      <th>6704</th>\n",
       "      <td>10176</td>\n",
       "      <td>2005-07-31 23:40:35</td>\n",
       "      <td>1181</td>\n",
       "      <td>19</td>\n",
       "      <td>2005-08-09 00:46:35</td>\n",
       "      <td>2</td>\n",
       "      <td>2006-02-15 21:30:53</td>\n",
       "    </tr>\n",
       "    <tr>\n",
       "      <th>6705</th>\n",
       "      <td>10177</td>\n",
       "      <td>2005-07-31 23:42:33</td>\n",
       "      <td>2242</td>\n",
       "      <td>279</td>\n",
       "      <td>2005-08-03 01:30:33</td>\n",
       "      <td>2</td>\n",
       "      <td>2006-02-15 21:30:53</td>\n",
       "    </tr>\n",
       "    <tr>\n",
       "      <th>6706</th>\n",
       "      <td>10178</td>\n",
       "      <td>2005-07-31 23:43:04</td>\n",
       "      <td>1582</td>\n",
       "      <td>491</td>\n",
       "      <td>2005-08-03 00:43:04</td>\n",
       "      <td>1</td>\n",
       "      <td>2006-02-15 21:30:53</td>\n",
       "    </tr>\n",
       "    <tr>\n",
       "      <th>6707</th>\n",
       "      <td>10179</td>\n",
       "      <td>2005-07-31 23:49:54</td>\n",
       "      <td>2136</td>\n",
       "      <td>131</td>\n",
       "      <td>2005-08-01 20:46:54</td>\n",
       "      <td>2</td>\n",
       "      <td>2006-02-15 21:30:53</td>\n",
       "    </tr>\n",
       "    <tr>\n",
       "      <th>6708</th>\n",
       "      <td>10180</td>\n",
       "      <td>2005-07-31 23:57:43</td>\n",
       "      <td>757</td>\n",
       "      <td>50</td>\n",
       "      <td>2005-08-09 04:04:43</td>\n",
       "      <td>2</td>\n",
       "      <td>2006-02-15 21:30:53</td>\n",
       "    </tr>\n",
       "  </tbody>\n",
       "</table>\n",
       "<p>6709 rows × 7 columns</p>\n",
       "</div>"
      ],
      "text/plain": [
       "      rental_id         rental_date  inventory_id  customer_id  \\\n",
       "0          3470 2005-07-05 22:49:24           883          565   \n",
       "1          3471 2005-07-05 22:51:44          1724          242   \n",
       "2          3472 2005-07-05 22:56:33           841           37   \n",
       "3          3473 2005-07-05 22:57:34          2735           60   \n",
       "4          3474 2005-07-05 22:59:53            97          594   \n",
       "...         ...                 ...           ...          ...   \n",
       "6704      10176 2005-07-31 23:40:35          1181           19   \n",
       "6705      10177 2005-07-31 23:42:33          2242          279   \n",
       "6706      10178 2005-07-31 23:43:04          1582          491   \n",
       "6707      10179 2005-07-31 23:49:54          2136          131   \n",
       "6708      10180 2005-07-31 23:57:43           757           50   \n",
       "\n",
       "             return_date  staff_id         last_update  \n",
       "0    2005-07-07 19:36:24         1 2006-02-15 21:30:53  \n",
       "1    2005-07-13 01:38:44         2 2006-02-15 21:30:53  \n",
       "2    2005-07-13 17:18:33         2 2006-02-15 21:30:53  \n",
       "3    2005-07-12 23:53:34         1 2006-02-15 21:30:53  \n",
       "4    2005-07-08 20:32:53         1 2006-02-15 21:30:53  \n",
       "...                  ...       ...                 ...  \n",
       "6704 2005-08-09 00:46:35         2 2006-02-15 21:30:53  \n",
       "6705 2005-08-03 01:30:33         2 2006-02-15 21:30:53  \n",
       "6706 2005-08-03 00:43:04         1 2006-02-15 21:30:53  \n",
       "6707 2005-08-01 20:46:54         2 2006-02-15 21:30:53  \n",
       "6708 2005-08-09 04:04:43         2 2006-02-15 21:30:53  \n",
       "\n",
       "[6709 rows x 7 columns]"
      ]
     },
     "execution_count": 28,
     "metadata": {},
     "output_type": "execute_result"
    }
   ],
   "source": [
    "# 2 Write a Python function called rentals_month, that retrieves rental data for a given month and year\n",
    "def rentals_month(engine, month, year):\n",
    "    query = (f\"\"\"SELECT *\n",
    "                FROM rental\n",
    "                WHERE DATE_FORMAT(rental_date, '%m') = {month}\n",
    "                AND DATE_FORMAT(rental_date, '%Y') = {year};\"\"\")\n",
    "    cursor.execute(query)\n",
    "    results = cursor.fetchall()\n",
    "    df = pd.DataFrame(results)\n",
    "    df.columns = ['rental_id', 'rental_date', 'inventory_id', 'customer_id', 'return_date', 'staff_id', 'last_update']\n",
    "    return df\n",
    "mydf = rentals_month(cnx, 7, 2005)\n",
    "mydf"
   ]
  },
  {
   "cell_type": "code",
   "execution_count": 58,
   "id": "a57d5934-0998-4f92-ab6c-7cdcdb6a1b31",
   "metadata": {},
   "outputs": [
    {
     "data": {
      "text/html": [
       "<div>\n",
       "<style scoped>\n",
       "    .dataframe tbody tr th:only-of-type {\n",
       "        vertical-align: middle;\n",
       "    }\n",
       "\n",
       "    .dataframe tbody tr th {\n",
       "        vertical-align: top;\n",
       "    }\n",
       "\n",
       "    .dataframe thead th {\n",
       "        text-align: right;\n",
       "    }\n",
       "</style>\n",
       "<table border=\"1\" class=\"dataframe\">\n",
       "  <thead>\n",
       "    <tr style=\"text-align: right;\">\n",
       "      <th></th>\n",
       "      <th>rentals_05_2005</th>\n",
       "    </tr>\n",
       "    <tr>\n",
       "      <th>customer_id</th>\n",
       "      <th></th>\n",
       "    </tr>\n",
       "  </thead>\n",
       "  <tbody>\n",
       "    <tr>\n",
       "      <th>1</th>\n",
       "      <td>12</td>\n",
       "    </tr>\n",
       "    <tr>\n",
       "      <th>2</th>\n",
       "      <td>14</td>\n",
       "    </tr>\n",
       "    <tr>\n",
       "      <th>3</th>\n",
       "      <td>13</td>\n",
       "    </tr>\n",
       "    <tr>\n",
       "      <th>4</th>\n",
       "      <td>5</td>\n",
       "    </tr>\n",
       "    <tr>\n",
       "      <th>5</th>\n",
       "      <td>16</td>\n",
       "    </tr>\n",
       "    <tr>\n",
       "      <th>...</th>\n",
       "      <td>...</td>\n",
       "    </tr>\n",
       "    <tr>\n",
       "      <th>595</th>\n",
       "      <td>19</td>\n",
       "    </tr>\n",
       "    <tr>\n",
       "      <th>596</th>\n",
       "      <td>6</td>\n",
       "    </tr>\n",
       "    <tr>\n",
       "      <th>597</th>\n",
       "      <td>7</td>\n",
       "    </tr>\n",
       "    <tr>\n",
       "      <th>598</th>\n",
       "      <td>16</td>\n",
       "    </tr>\n",
       "    <tr>\n",
       "      <th>599</th>\n",
       "      <td>7</td>\n",
       "    </tr>\n",
       "  </tbody>\n",
       "</table>\n",
       "<p>599 rows × 1 columns</p>\n",
       "</div>"
      ],
      "text/plain": [
       "             rentals_05_2005\n",
       "customer_id                 \n",
       "1                         12\n",
       "2                         14\n",
       "3                         13\n",
       "4                          5\n",
       "5                         16\n",
       "...                      ...\n",
       "595                       19\n",
       "596                        6\n",
       "597                        7\n",
       "598                       16\n",
       "599                        7\n",
       "\n",
       "[599 rows x 1 columns]"
      ]
     },
     "execution_count": 58,
     "metadata": {},
     "output_type": "execute_result"
    }
   ],
   "source": [
    "# 3 \n",
    "def rental_count_month(mydf , month, year):\n",
    "    new_df = mydf[[ 'rental_id','customer_id']].groupby('customer_id').agg({'rental_id' : 'count'}).rename(columns={'rental_id': f'rentals_{month}_{year}'})\n",
    "    return new_df\n",
    "rental_count_month(mydf, '05', 2005)"
   ]
  },
  {
   "cell_type": "code",
   "execution_count": 94,
   "id": "8cb435b4-558d-48dc-8bf8-058bec0b5b5a",
   "metadata": {},
   "outputs": [
    {
     "data": {
      "text/plain": [
       "customer_id\n",
       "1      0\n",
       "2      0\n",
       "3      0\n",
       "4      0\n",
       "5      0\n",
       "      ..\n",
       "595    0\n",
       "596    0\n",
       "597    0\n",
       "598    0\n",
       "599    0\n",
       "Length: 599, dtype: int64"
      ]
     },
     "execution_count": 94,
     "metadata": {},
     "output_type": "execute_result"
    }
   ],
   "source": [
    "#4 Create a Python function called compare_rentals that takes two DataFrames as input containing the number of rentals made by\n",
    "# each customer in different months and years. The function should return a combined DataFrame with a new 'difference' column, which is the difference between the number of rentals in the two months.\n",
    "def compare_rentals(df1 , df2):\n",
    "    return df1.iloc[:, 0] - df2.iloc[:, 0]\n",
    "\n",
    "df1 = rental_count_month(mydf, '05', 2005)\n",
    "df2 = rental_count_month(mydf, '03', 2005)\n",
    "\n",
    "compare_rentals(df1, df2)"
   ]
  }
 ],
 "metadata": {
  "kernelspec": {
   "display_name": "Python 3 (ipykernel)",
   "language": "python",
   "name": "python3"
  },
  "language_info": {
   "codemirror_mode": {
    "name": "ipython",
    "version": 3
   },
   "file_extension": ".py",
   "mimetype": "text/x-python",
   "name": "python",
   "nbconvert_exporter": "python",
   "pygments_lexer": "ipython3",
   "version": "3.11.5"
  }
 },
 "nbformat": 4,
 "nbformat_minor": 5
}
